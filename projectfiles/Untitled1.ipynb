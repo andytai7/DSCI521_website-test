{
 "cells": [
  {
   "cell_type": "code",
   "execution_count": 1,
   "id": "5b284388-bdc4-4898-98bc-9a0fafe6c682",
   "metadata": {},
   "outputs": [
    {
     "data": {
      "text/plain": [
       "'/Users/andytai/Library/Mobile Documents/com~apple~CloudDocs/Documents/github/mds/DSCI521_website-test/projectfiles'"
      ]
     },
     "execution_count": 1,
     "metadata": {},
     "output_type": "execute_result"
    }
   ],
   "source": [
    "pwd"
   ]
  },
  {
   "cell_type": "code",
   "execution_count": 2,
   "id": "23e8edf6-d5d8-4c01-a3b5-e41b80bd5a35",
   "metadata": {},
   "outputs": [],
   "source": [
    "import os "
   ]
  },
  {
   "cell_type": "code",
   "execution_count": 3,
   "id": "c7b44889-50fe-4b2f-9d0c-6a45076ad3f6",
   "metadata": {},
   "outputs": [
    {
     "name": "stdout",
     "output_type": "stream",
     "text": [
      "/Users/andytai/Library/Mobile Documents/com~apple~CloudDocs/Documents/github/mds/DSCI521_website-test/projectfiles\n"
     ]
    }
   ],
   "source": [
    "print(os.getcwd())"
   ]
  },
  {
   "cell_type": "code",
   "execution_count": 4,
   "id": "a620a917-2ef7-48e2-90e0-63f9d460afea",
   "metadata": {},
   "outputs": [],
   "source": [
    "import pandas as pd"
   ]
  },
  {
   "cell_type": "code",
   "execution_count": 6,
   "id": "576e4c54-bbe1-4df7-841c-e423b1b2f45d",
   "metadata": {},
   "outputs": [],
   "source": [
    "df = pd.read_csv('../data/cars.csv')"
   ]
  },
  {
   "cell_type": "code",
   "execution_count": null,
   "id": "d03310eb-5374-41e4-accf-6af7b0b84b41",
   "metadata": {},
   "outputs": [],
   "source": []
  }
 ],
 "metadata": {
  "kernelspec": {
   "display_name": "Python 3 (ipykernel)",
   "language": "python",
   "name": "python3"
  },
  "language_info": {
   "codemirror_mode": {
    "name": "ipython",
    "version": 3
   },
   "file_extension": ".py",
   "mimetype": "text/x-python",
   "name": "python",
   "nbconvert_exporter": "python",
   "pygments_lexer": "ipython3",
   "version": "3.12.5"
  }
 },
 "nbformat": 4,
 "nbformat_minor": 5
}
